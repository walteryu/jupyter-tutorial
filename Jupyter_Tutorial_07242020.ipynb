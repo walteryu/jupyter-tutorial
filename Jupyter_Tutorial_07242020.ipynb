{
 "cells": [
  {
   "cell_type": "markdown",
   "metadata": {},
   "source": [
    "# Jupyter Tutorial\n",
    "\n",
    "### NY Times Open Data\n",
    "### July 2020\n",
    "\n",
    "## Introduction\n",
    "\n",
    "This tutorial demonstrates basic notebook functionality and Python code examples for data analysis. After reviewing this tutorial, you should have a basic understanding of notebook, Python and how to get started with your own notebook.\n",
    "\n",
    "## Tutorial\n",
    "\n",
    "1. This tutorial focuses on data analysis of COVID-19 data from the NY Times page on [Github][1].\n",
    "2. Details about the dataset are available [here][2].\n",
    "3. Text sections are written in the [markdown][3] language.\n",
    "\n",
    "[1]: https://github.com/nytimes\n",
    "[2]: https://github.com/nytimes/covid-19-data\n",
    "[3]: https://www.markdownguide.org/\n"
   ]
  },
  {
   "cell_type": "code",
   "execution_count": 4,
   "metadata": {},
   "outputs": [],
   "source": [
    "# 01 - load python modules into notebook for later use\n",
    "\n",
    "# pandas modules for working with DataFrames\n",
    "import pandas as pd\n",
    "\n",
    "# numpy modules for data manipulation\n",
    "import numpy as np\n",
    "\n",
    "# numpy modules for data visualization\n",
    "import matplotlib.pyplot as plt\n",
    "\n",
    "# import seaborn plotting module\n",
    "import seaborn as sns\n",
    "\n",
    "# adjust plot settings to output correctly\n",
    "%matplotlib inline\n",
    "\n"
   ]
  },
  {
   "cell_type": "code",
   "execution_count": 5,
   "metadata": {
    "scrolled": true
   },
   "outputs": [
    {
     "name": "stdout",
     "output_type": "stream",
     "text": [
      "<class 'pandas.core.frame.DataFrame'>\n",
      "Int64Index: 7411 entries, 5 to 357319\n",
      "Data columns (total 6 columns):\n",
      " #   Column  Non-Null Count  Dtype  \n",
      "---  ------  --------------  -----  \n",
      " 0   date    7411 non-null   object \n",
      " 1   county  7411 non-null   object \n",
      " 2   state   7411 non-null   object \n",
      " 3   fips    7402 non-null   float64\n",
      " 4   cases   7411 non-null   int64  \n",
      " 5   deaths  7411 non-null   int64  \n",
      "dtypes: float64(1), int64(2), object(3)\n",
      "memory usage: 405.3+ KB\n"
     ]
    }
   ],
   "source": [
    "# nytimes dataset\n",
    "# source: https://github.com/nytimes/covid-19-data\n",
    "\n",
    "# load data via url\n",
    "# https://stackoverflow.com/questions/32400867/pandas-read-csv-from-url/41880513#41880513\n",
    "url = \"https://raw.githubusercontent.com/nytimes/covid-19-data/master/us-counties.csv\"\n",
    "df_total = pd.read_csv(url)\n",
    "\n",
    "# nytimes dataset: filter by state\n",
    "# https://stackoverflow.com/questions/11869910/pandas-filter-rows-of-dataframe-with-operator-chaining\n",
    "df_california = df_total[df_total['state'] == 'California']\n",
    "\n",
    "# show columns and datatypes\n",
    "df_california.info()\n"
   ]
  },
  {
   "cell_type": "code",
   "execution_count": null,
   "metadata": {},
   "outputs": [],
   "source": []
  }
 ],
 "metadata": {
  "kernelspec": {
   "display_name": "Python 3",
   "language": "python",
   "name": "python3"
  },
  "language_info": {
   "codemirror_mode": {
    "name": "ipython",
    "version": 3
   },
   "file_extension": ".py",
   "mimetype": "text/x-python",
   "name": "python",
   "nbconvert_exporter": "python",
   "pygments_lexer": "ipython3",
   "version": "3.6.5"
  }
 },
 "nbformat": 4,
 "nbformat_minor": 2
}
